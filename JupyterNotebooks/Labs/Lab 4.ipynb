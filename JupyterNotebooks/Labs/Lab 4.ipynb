{
 "cells": [
  {
   "cell_type": "markdown",
   "metadata": {},
   "source": [
    "# Lab Four\n",
    "---\n",
    "\n",
    "For this lab we're going to be messing around with Markdown!\n",
    "\n",
    "Our Goals are:\n",
    "- Using Markdown!\n",
    "\n",
    "I want you to describe to me your process of converting the assignment and making it DRY. \n",
    "\n",
    "Please show the ability to:\n",
    "- Make a header\n",
    "- Make a list (ordered or unordered)\n",
    "- Link the Markdown Guide from the lesson. \n",
    "- Artuculate your thought process."
   ]
  },
  {
   "cell_type": "code",
   "execution_count": null,
   "metadata": {},
   "outputs": [],
   "source": []
  }
 ],
 "metadata": {
  "kernelspec": {
   "display_name": "Python 3.8.5 64-bit (conda)",
   "name": "python385jvsc74a57bd0bbaff3bad43e72ef86a08724e2a04c1dc7b916dad0faa2935f126c230f07c1b0"
  },
  "language_info": {
   "name": "python",
   "version": ""
  },
  "orig_nbformat": 2
 },
 "nbformat": 4,
 "nbformat_minor": 2
}