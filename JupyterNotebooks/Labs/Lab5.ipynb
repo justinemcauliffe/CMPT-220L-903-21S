{
 "cells": [
  {
   "cell_type": "markdown",
   "metadata": {},
   "source": [
    "# Lab Five\n",
    "---\n",
    "\n",
    "For this lab we're going to be messing around with our Linear Data Types!\n",
    "\n",
    "Our Goals are:\n",
    "- Creating an Array\n",
    "- Creating an ArrayList\n",
    "- Creating an LinkedList\n",
    "- Creating an Queue\n",
    "- Creating an Stack \n",
    "\n",
    "Please show the ability to:\n",
    "- Create these data types\n",
    "- Populate the data types\n",
    "- Print out the Linear Data Types"
   ]
  },
  {
   "cell_type": "code",
   "execution_count": null,
   "metadata": {},
   "outputs": [],
   "source": [
    "import java.util.Arrays;\r\n",
    "import java.util.ArraysList;\r\n",
    "import java.util.LinkedList;\r\n",
    "import java.util.Queue;\r\n",
    "import java.util.PriorityQueue;\r\n",
    "import java.util.Stack;"
   ]
  },
  {
   "cell_type": "code",
   "execution_count": 1,
   "metadata": {},
   "outputs": [
    {
     "name": "stdout",
     "output_type": "stream",
     "text": [
      "[Emily, Allie, Francesca, Taylor, Rachel, Camryn]\n"
     ]
    }
   ],
   "source": [
    "// Create an Array, Populate it, and Print it out\r\n",
    "String[] friends = {\"Emily\", \"Allie\", \"Francesca\", \"Taylor\", \"Rachel\", \"Camryn\"};\r\n",
    "System.out.println(Arrays.toString(friends));"
   ]
  },
  {
   "cell_type": "code",
   "execution_count": 2,
   "metadata": {},
   "outputs": [
    {
     "name": "stdout",
     "output_type": "stream",
     "text": [
      "[Emily, Allie, Francesca, Taylor, Rachel, Camryn]\n"
     ]
    }
   ],
   "source": [
    "// Create an ArrayList, Populate it, and Print it out\r\n",
    "ArrayList<String> friends = new ArrayList<String>();\r\n",
    "friends.add(\"Emily\");\r\n",
    "friends.add(\"Allie\");\r\n",
    "friends.add(\"Francesca\");\r\n",
    "friends.add(\"Taylor\");\r\n",
    "friends.add(\"Rachel\");\r\n",
    "friends.add(\"Camryn\");\r\n",
    "System.out.println(friends);"
   ]
  },
  {
   "cell_type": "code",
   "execution_count": 3,
   "metadata": {},
   "outputs": [
    {
     "name": "stdout",
     "output_type": "stream",
     "text": [
      "[Emily, Allie, Francesca, Taylor, Rachel, Camryn]\n"
     ]
    }
   ],
   "source": [
    "// Create an LinkedList, Populate it, and Print it out\r\n",
    "LinkedList<String> friends = new LinkedList<String>();\r\n",
    "friends.add(\"Emily\");\r\n",
    "friends.add(\"Allie\");\r\n",
    "friends.add(\"Francesca\");\r\n",
    "friends.add(\"Taylor\");\r\n",
    "friends.add(\"Rachel\");\r\n",
    "friends.add(\"Camryn\");\r\n",
    "System.out.println(friends);"
   ]
  },
  {
   "cell_type": "code",
   "execution_count": 7,
   "metadata": {},
   "outputs": [
    {
     "name": "stdout",
     "output_type": "stream",
     "text": [
      "[Emily, Allie, Francesca, Taylor, Rachel, Camryn]\n",
      "[Allie, Emily, Camryn, Taylor, Rachel, Francesca]\n"
     ]
    }
   ],
   "source": [
    "// Create an Queue, Populate it, and Print it out\r\n",
    "Queue<String> friends = new LinkedList<String>();\r\n",
    "friends.add(\"Emily\");\r\n",
    "friends.add(\"Allie\");\r\n",
    "friends.add(\"Francesca\");\r\n",
    "friends.add(\"Taylor\");\r\n",
    "friends.add(\"Rachel\");\r\n",
    "friends.add(\"Camryn\");\r\n",
    "System.out.println(friends);\r\n",
    "\r\n",
    "Queue<String> friends = new PriorityQueue<String>();\r\n",
    "friends.add(\"Emily\");\r\n",
    "friends.add(\"Allie\");\r\n",
    "friends.add(\"Francesca\");\r\n",
    "friends.add(\"Taylor\");\r\n",
    "friends.add(\"Rachel\");\r\n",
    "friends.add(\"Camryn\");\r\n",
    "System.out.println(friends);"
   ]
  },
  {
   "cell_type": "code",
   "execution_count": 6,
   "metadata": {},
   "outputs": [
    {
     "name": "stdout",
     "output_type": "stream",
     "text": [
      "[Emily, Allie, Francesca, Taylor, Rachel, Camryn]\n"
     ]
    }
   ],
   "source": [
    "// Create an Stack, Populate it, and Print it out\r\n",
    "Stack<String> friends = new Stack<String>();\r\n",
    "friends.add(\"Emily\");\r\n",
    "friends.add(\"Allie\");\r\n",
    "friends.add(\"Francesca\");\r\n",
    "friends.add(\"Taylor\");\r\n",
    "friends.add(\"Rachel\");\r\n",
    "friends.add(\"Camryn\");\r\n",
    "System.out.println(friends);\r\n"
   ]
  }
 ],
 "metadata": {
  "kernelspec": {
   "display_name": "Java",
   "language": "java",
   "name": "java"
  },
  "language_info": {
   "codemirror_mode": "java",
   "file_extension": ".jshell",
   "mimetype": "text/x-java-source",
   "name": "Java",
   "pygments_lexer": "java",
   "version": "15.0.2+7-27"
  },
  "orig_nbformat": 2
 },
 "nbformat": 4,
 "nbformat_minor": 2
}