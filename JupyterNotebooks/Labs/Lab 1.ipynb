{
 "cells": [
  {
   "cell_type": "markdown",
   "metadata": {},
   "source": [
    "# Lab One\n",
    "---\n",
    "\n",
    "Ok for this lab we're going to reiterate a lot of the things that we went over in class.\n",
    "\n",
    "Our Goals are:\n",
    "- Binary Math\n",
    "- Defining Variables\n",
    "    - Primitive Types\n",
    "    - Reference Types\n",
    "- Using Math\n",
    "- Manipulating Variables"
   ]
  },
  {
   "cell_type": "markdown",
   "metadata": {},
   "source": [
    "For this section I just want you to type the answer. I know that you can just look this up but try and do the math. \r\n",
    "### What is 1000 in Decimal\r\n",
    "\r\n",
    "8\r\n",
    "\r\n",
    "### What is 1000 1001 in Decimal (This is a byte. It's just split for readability)\r\n",
    "\r\n",
    "137\r\n",
    "\r\n",
    "### What is 1010 1111 in Decimal (This is a byte. It's just split for readability)\r\n",
    "\r\n",
    "175\r\n",
    "\r\n",
    "### What is 0101 1010 in Decimal (This is a byte. It's just split for readability)\r\n",
    "\r\n",
    " 90"
   ]
  },
  {
   "cell_type": "code",
   "execution_count": 14,
   "metadata": {},
   "outputs": [
    {
     "name": "stdout",
     "output_type": "stream",
     "text": [
      "false\n",
      "120\n",
      "123\n",
      "12312\n",
      "2132133\n",
      "0.12222222\n",
      "1.0746842247122223E10\n",
      "b\n"
     ]
    }
   ],
   "source": [
    "// Define 8 variables, one of each type listed: [boolean, byte, short, int, long, float, double, char]. Print all 8 of them.\r\n",
    "boolean is_false = false;\r\n",
    "System.out.println(is_false);\r\n",
    "\r\n",
    "byte number = 120;\r\n",
    "System.out.println(number);\r\n",
    "\r\n",
    "short bigger_number = 123;\r\n",
    "System.out.println(bigger_number);\r\n",
    "\r\n",
    "int larger_number = 12312;\r\n",
    "System.out.println(larger_number);\r\n",
    "\r\n",
    "long huge_number = 2132133;\r\n",
    "System.out.println(huge_number);\r\n",
    "\r\n",
    "float dec = 0.12222222222231f;\r\n",
    "System.out.println(dec);\r\n",
    "\r\n",
    "double big_dec = 10746842247.1222222222222231;\r\n",
    "System.out.println(big_dec);\r\n",
    "\r\n",
    "char b = 'b';\r\n",
    "System.out.println(b);"
   ]
  },
  {
   "cell_type": "code",
   "execution_count": 18,
   "metadata": {},
   "outputs": [],
   "source": [
    "// Make me a list of any type\r\n",
    "int[] list = {1,2,3,4}"
   ]
  },
  {
   "cell_type": "code",
   "execution_count": 19,
   "metadata": {},
   "outputs": [
    {
     "name": "stdout",
     "output_type": "stream",
     "text": [
      "30\n",
      "-10\n",
      "0\n",
      "200\n",
      "10\n"
     ]
    }
   ],
   "source": [
    "// With whatever variables you'd like demonstrate the following: [Addition, Subtraction, Division, Multiplication, Modulo]. Print all 5.\r\n",
    "int a = 10;\r\n",
    "int b = 20;\r\n",
    "\r\n",
    "System.out.println(a+b);\r\n",
    "System.out.println(a-b);\r\n",
    "System.out.println(a / b);\r\n",
    "System.out.println(a * b);\r\n",
    "System.out.println(a % b);"
   ]
  },
  {
   "cell_type": "code",
   "execution_count": 23,
   "metadata": {},
   "outputs": [
    {
     "name": "stdout",
     "output_type": "stream",
     "text": [
      "57\n"
     ]
    }
   ],
   "source": [
    "// Using 2 variables and addition print the number 57\r\n",
    "int c = 50;\r\n",
    "int d = 7;\r\n",
    "\r\n",
    "System.out.println(c + d);"
   ]
  },
  {
   "cell_type": "code",
   "execution_count": 22,
   "metadata": {},
   "outputs": [
    {
     "name": "stdout",
     "output_type": "stream",
     "text": [
      "Hi my name is Justine! How are you today?\n"
     ]
    }
   ],
   "source": [
    "// Define a variable and print it out. Then alter the same variable and print it out. This can be through string concatenation or addition, etc.\r\n",
    "String part1 = \"Hi my name is Justine! \";\r\n",
    "String part2 = \"How are you today?\";\r\n",
    "\r\n",
    "System.out.println(part1 + part2);"
   ]
  }
 ],
 "metadata": {
  "kernelspec": {
   "display_name": "Java",
   "language": "java",
   "name": "java"
  },
  "language_info": {
   "codemirror_mode": "java",
   "file_extension": ".jshell",
   "mimetype": "text/x-java-source",
   "name": "Java",
   "pygments_lexer": "java",
   "version": "15.0.2+7-27"
  },
  "orig_nbformat": 2
 },
 "nbformat": 4,
 "nbformat_minor": 2
}