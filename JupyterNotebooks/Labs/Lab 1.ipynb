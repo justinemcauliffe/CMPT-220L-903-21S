{
 "cells": [
  {
   "cell_type": "markdown",
   "metadata": {},
   "source": [
    "# Lab One\n",
    "---\n",
    "\n",
    "Ok for this lab we're going to reiterate a lot of the things that we went over in class.\n",
    "\n",
    "Our Goals are:\n",
    "- Binary Math\n",
    "- Defining Variables\n",
    "    - Primitive Types\n",
    "    - Reference Types\n",
    "- Using Math\n",
    "- Manipulating Variables"
   ]
  },
  {
   "cell_type": "markdown",
   "metadata": {},
   "source": [
    "For this section I just want you to type the answer. I know that you can just look this up but try and do the math. \r\n",
    "### What is 1000 in Decimal\r\n",
    "\r\n",
    "8\r\n",
    "\r\n",
    "### What is 1000 1001 in Decimal (This is a byte. It's just split for readability)\r\n",
    "\r\n",
    "137\r\n",
    "\r\n",
    "### What is 1010 1111 in Decimal (This is a byte. It's just split for readability)\r\n",
    "\r\n",
    "175\r\n",
    "\r\n",
    "### What is 0101 1010 in Decimal (This is a byte. It's just split for readability)\r\n",
    "\r\n",
    " 90"
   ]
  },
  {
   "cell_type": "code",
   "execution_count": 2,
   "metadata": {},
   "outputs": [
    {
     "name": "stdout",
     "output_type": "stream",
     "text": [
      "Boolean"
     ]
    }
   ],
   "source": [
    "// Define 8 variables, one of each type listed: [boolean, byte, short, int, long, float, double, char]. Print all 8 of them.\r\n",
    "System.out.print(\"Boolean\");"
   ]
  },
  {
   "cell_type": "code",
   "execution_count": 10,
   "metadata": {},
   "outputs": [
    {
     "name": "stdout",
     "output_type": "stream",
     "text": [
      "Vanilla\n",
      "Chocolate\n",
      "Strawberry"
     ]
    }
   ],
   "source": [
    "// Make me a list of any type\r\n",
    "System.out.print(\"Vanilla\"+ \"\\n\" + \"Chocolate\" + \"\\n\" +\"Strawberry\");"
   ]
  },
  {
   "cell_type": "code",
   "execution_count": null,
   "metadata": {},
   "outputs": [],
   "source": [
    "// With whatever variables you'd like demonstrate the following: [Addition, Subtraction, Division, Multiplication, Modulo]. Print all 5."
   ]
  },
  {
   "cell_type": "code",
   "execution_count": 5,
   "metadata": {},
   "outputs": [
    {
     "name": "stdout",
     "output_type": "stream",
     "text": [
      "57\n"
     ]
    }
   ],
   "source": [
    "// Using 2 variables and addition print the number 57\r\n",
    "System.out.println(\"5\" + \"7\");"
   ]
  },
  {
   "cell_type": "code",
   "execution_count": null,
   "metadata": {},
   "outputs": [],
   "source": [
    "// Define a variable and print it out. Then alter the same variable and print it out. This can be through string concatenation or addition, etc."
   ]
  }
 ],
 "metadata": {
  "kernelspec": {
   "display_name": "Java",
   "language": "java",
   "name": "java"
  },
  "language_info": {
   "codemirror_mode": "java",
   "file_extension": ".jshell",
   "mimetype": "text/x-java-source",
   "name": "Java",
   "pygments_lexer": "java",
   "version": "15.0.2+7-27"
  },
  "orig_nbformat": 2
 },
 "nbformat": 4,
 "nbformat_minor": 2
}