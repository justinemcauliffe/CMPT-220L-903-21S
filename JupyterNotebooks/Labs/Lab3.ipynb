{
 "cells": [
  {
   "cell_type": "markdown",
   "metadata": {},
   "source": [
    "# Lab Three\n",
    "---\n",
    "\n",
    "For this lab we're going to be making and using a bunch of functions. \n",
    "\n",
    "Our Goals are:\n",
    "- Switch Case\n",
    "- Looping\n",
    "- Making our own functions\n",
    "- Combining functions\n",
    "- Structuring solutions"
   ]
  },
  {
   "cell_type": "code",
   "execution_count": 5,
   "metadata": {},
   "outputs": [
    {
     "name": "stdout",
     "output_type": "stream",
     "text": [
      "The computer chose Heads. You win!\n",
      "The computer chose Tails. You win!\n"
     ]
    }
   ],
   "source": [
    "// Give me an example of you using switch case.\r\n",
    "\r\n",
    "String choice = \"Heads\";\r\n",
    "switch(choice){\r\n",
    "    case \"Heads\":\r\n",
    "        System.out.println(\"The computer chose Heads. You win!\");\r\n",
    "    case \"Tails\":\r\n",
    "        System.out.println(\"The computer chose Tails. You win!\");\r\n",
    "}\r\n",
    "\r\n"
   ]
  },
  {
   "cell_type": "code",
   "execution_count": 8,
   "metadata": {},
   "outputs": [
    {
     "name": "stdout",
     "output_type": "stream",
     "text": [
      "0\n",
      "1\n",
      "2\n",
      "3\n",
      "4\n",
      "5\n"
     ]
    }
   ],
   "source": [
    "// Give me an example of you using a for loop\r\n",
    "for (int i = 0; i <= 5; i= i+1){\r\n",
    "    System.out.println(i);\r\n",
    "}"
   ]
  },
  {
   "cell_type": "code",
   "execution_count": 11,
   "metadata": {},
   "outputs": [
    {
     "name": "stdout",
     "output_type": "stream",
     "text": [
      "Your color options are:\n",
      "red\n",
      "orange\n",
      "yellow\n",
      "green\n",
      "blue\n",
      "indigo\n",
      "violet\n"
     ]
    }
   ],
   "source": [
    "// Give me an example of you using a for each loop\r\n",
    "String[] coloroptions = {\"red\", \"orange\", \"yellow\", \"green\", \"blue\", \"indigo\", \"violet\"};\r\n",
    "\r\n",
    "System.out.println(\"Your color options are:\");\r\n",
    "for (String coloroptions: coloroptions){\r\n",
    "    System.out.println(coloroptions);\r\n",
    "}\r\n"
   ]
  },
  {
   "cell_type": "code",
   "execution_count": 13,
   "metadata": {},
   "outputs": [
    {
     "name": "stdout",
     "output_type": "stream",
     "text": [
      "1\n",
      "2\n",
      "3\n",
      "4\n"
     ]
    }
   ],
   "source": [
    "// Give me an example of you using a while loop\r\n",
    "int i = 1;\r\n",
    "\r\n",
    "while(i < 5){\r\n",
    "    System.out.println(i);\r\n",
    "    i++;\r\n",
    "}"
   ]
  },
  {
   "cell_type": "code",
   "execution_count": 15,
   "metadata": {},
   "outputs": [
    {
     "name": "stdout",
     "output_type": "stream",
     "text": [
      "8.0\n"
     ]
    }
   ],
   "source": [
    "// I want you to write a function that will take in a number and raise it to the power given. \r\n",
    "\r\n",
    "// For example if given the numbers 2 and 3. The math that the function should do is 2^3 and should print out or return 8. Print the output.\r\n",
    "\r\n",
    "double power (int base, int exponent){\r\n",
    "    return Math.pow(base, exponent);\r\n",
    "}\r\n",
    "System.out.println(power(2,3));"
   ]
  },
  {
   "cell_type": "code",
   "execution_count": 68,
   "metadata": {},
   "outputs": [
    {
     "name": "stdout",
     "output_type": "stream",
     "text": [
      "There are 3 2's in the array\n"
     ]
    }
   ],
   "source": [
    "// I want you to write a function that will take in a list and see how many times a given number is in the list. \r\n",
    "\r\n",
    "// For example if the array given is [2,3,5,2,3,6,7,8,2] and the number given is 2 the function should print out or return 3. Print the output.\r\n",
    "\r\n",
    "void repeated(int[] array, int target){\r\n",
    "    if (array.length == 0){\r\n",
    "        System.out.println(\"There is nothing in the array\");\r\n",
    "        return;\r\n",
    "    }\r\n",
    "\r\n",
    "    int counter = 0;\r\n",
    "    for (int number: array) {\r\n",
    "        if (target == number) {\r\n",
    "            counter++;\r\n",
    "        }\r\n",
    "    }\r\n",
    "    System.out.println(\"There are \" + counter + \" \" + target +\"'s in the array\");\r\n",
    "}\r\n",
    "int[] intarray = {2,3,5,2,3,6,7,8,2};\r\n",
    "repeated(array, 2)"
   ]
  },
  {
   "cell_type": "code",
   "execution_count": 74,
   "metadata": {},
   "outputs": [
    {
     "name": "stdout",
     "output_type": "stream",
     "text": [
      "c is 5.0 and c squared is 25.0\n"
     ]
    }
   ],
   "source": [
    "// Give me a function that gives the answer to the pythagorean theorem. \r\n",
    "// I'd like you to reuse the exponent function from above as well as the functions below to make your function.\r\n",
    "\r\n",
    "// If you don't remember the pythagorean theorem the formula is (a^2 + b^2 = c^2). Given a and b as parameters i'd like you to return c. \r\n",
    "// If this doesn't make sense look up `Pythagorean Theorem Formula` on google.\r\n",
    "\r\n",
    "int addition(int a, int b) {\r\n",
    "    int answer = a + b;\r\n",
    "    return answer;\r\n",
    "}\r\n",
    "\r\n",
    "int division(int a, int b) {\r\n",
    "    int answer = a / b;\r\n",
    "    return answer;\r\n",
    "}\r\n",
    "\r\n",
    "\r\n",
    "void pathagorean_theorem(int a, int b) {\r\n",
    "    double a_squared = power(a,2);\r\n",
    "    double b_squared = power(b, 2);\r\n",
    "    double c_squared = a_squared + b_squared;\r\n",
    "    double c = Math.sqrt(c_squared);\r\n",
    "\r\n",
    "    System.out.println(\"c is \" + c + \" and c squared is \" + c_squared);\r\n",
    "}\r\n",
    "\r\n",
    "pathagorean_theorem(3,4)"
   ]
  }
 ],
 "metadata": {
  "kernelspec": {
   "display_name": "Java",
   "language": "java",
   "name": "java"
  },
  "language_info": {
   "codemirror_mode": {
    "name": "ipython",
    "version": 3
   },
   "file_extension": ".py",
   "mimetype": "text/x-python",
   "name": "python",
   "nbconvert_exporter": "python",
   "pygments_lexer": "ipython3",
   "version": "3.8.5-final"
  },
  "orig_nbformat": 2
 },
 "nbformat": 4,
 "nbformat_minor": 2
}