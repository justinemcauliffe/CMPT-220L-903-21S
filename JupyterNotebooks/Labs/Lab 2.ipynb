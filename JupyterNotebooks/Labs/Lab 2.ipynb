{
 "cells": [
  {
   "cell_type": "markdown",
   "metadata": {},
   "source": [
    "# Lab Two\n",
    "---\n",
    "\n",
    "Ok for this lab we're going to reiterate a lot of the things that we went over in class.\n",
    "\n",
    "Our Goals are:\n",
    "- Conditionals\n",
    "    - If\n",
    "    - Else\n",
    "    - Else If"
   ]
  },
  {
   "cell_type": "code",
   "execution_count": 1,
   "metadata": {},
   "outputs": [
    {
     "name": "stdout",
     "output_type": "stream",
     "text": [
      "If: This is an if statement\n"
     ]
    }
   ],
   "source": [
    "// Make an if statement\r\n",
    " if (true) {\r\n",
    "     System.out.println(\"If: This is an if statement\");\r\n",
    " }"
   ]
  },
  {
   "cell_type": "code",
   "execution_count": 5,
   "metadata": {},
   "outputs": [
    {
     "name": "stdout",
     "output_type": "stream",
     "text": [
      "Else: This is an else statement\n"
     ]
    }
   ],
   "source": [
    "// Make an if, else statement where the else statement triggers\r\n",
    "if (false) {\r\n",
    "    System.out.println(\"If: This is an if statement\");\r\n",
    "}else {\r\n",
    "    System.out.println(\"Else: This is an else statement\");\r\n",
    "}"
   ]
  },
  {
   "cell_type": "code",
   "execution_count": 22,
   "metadata": {},
   "outputs": [
    {
     "name": "stdout",
     "output_type": "stream",
     "text": [
      "Else If: This is an else if statement\n"
     ]
    }
   ],
   "source": [
    "// Make an if, else if, else statement where the else if statement triggers\r\n",
    "int number = 3;\r\n",
    "\r\n",
    "if (number>4) {\r\n",
    "    System.out.println(\"If: This is an if statement\");\r\n",
    "} else if (number <= 4){ \r\n",
    "    System.out.println(\"Else If: This is an else if statement\");\r\n",
    "} else {\r\n",
    "    System.out.println(\"Else: This is an else statement\");\r\n",
    "}"
   ]
  },
  {
   "cell_type": "code",
   "execution_count": 7,
   "metadata": {},
   "outputs": [
    {
     "name": "stdout",
     "output_type": "stream",
     "text": [
      "If: This is an if statement\n"
     ]
    }
   ],
   "source": [
    "// Make 2 variables and use them in an if else conditional\r\n",
    "int a = 3;\r\n",
    "int b = 2;\r\n",
    "\r\n",
    "if (a > b){\r\n",
    "    System.out.println(\"If: This is an if statement\");\r\n",
    "} else {\r\n",
    "    System.out.println(\"Else: This is an else statement\");\r\n",
    "}"
   ]
  },
  {
   "cell_type": "code",
   "execution_count": 13,
   "metadata": {},
   "outputs": [
    {
     "name": "stdout",
     "output_type": "stream",
     "text": [
      "If: This is an if with an and operator statement\n"
     ]
    }
   ],
   "source": [
    "// Make an if statement using 2 variables and an AND(&&) statement\r\n",
    "int c = 10;\r\n",
    "int d = 20;\r\n",
    "\r\n",
    "if (c < d && c == 10){\r\n",
    "    System.out.println(\"If: This is an if with an and operator statement\");\r\n",
    "} else{\r\n",
    "    System.out.println(\"Else: This is an else statement\");\r\n",
    "}"
   ]
  },
  {
   "cell_type": "code",
   "execution_count": 14,
   "metadata": {},
   "outputs": [
    {
     "name": "stdout",
     "output_type": "stream",
     "text": [
      "If: This is an if with an or and operator statement\n"
     ]
    }
   ],
   "source": [
    "// Make an if statement using 2 variables and an OR(||) statement\r\n",
    "int c = 10;\r\n",
    "int d = 20;\r\n",
    "\r\n",
    "if (c < d || d == 20){\r\n",
    "    System.out.println(\"If: This is an if with an or and operator statement\");\r\n",
    "} else {\r\n",
    "    System.out.println(\"Else: This is an else statement\");\r\n",
    "}"
   ]
  }
 ],
 "metadata": {
  "kernelspec": {
   "display_name": "Java",
   "language": "java",
   "name": "java"
  },
  "language_info": {
   "codemirror_mode": "java",
   "file_extension": ".jshell",
   "mimetype": "text/x-java-source",
   "name": "Java",
   "pygments_lexer": "java",
   "version": "15.0.2+7-27"
  },
  "orig_nbformat": 2
 },
 "nbformat": 4,
 "nbformat_minor": 2
}